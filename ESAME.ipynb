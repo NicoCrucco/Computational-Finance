{
 "cells": [
  {
   "cell_type": "code",
   "execution_count": 1,
   "id": "260f7373",
   "metadata": {},
   "outputs": [],
   "source": [
    "import sys\n",
    "from sys import stdout as cout\n",
    "from scipy.stats import norm\n",
    "from math import *\n",
    "import numpy as np\n",
    "import pandas as pd\n",
    "from timer import Timer \n",
    "from torch import seed\n",
    "from stats1 import stats\n",
    "from config import get_input_parms, loadConfig\n",
    "from finder import *\n",
    "from HW import * \n",
    "from P_0T import discount_curve as zc\n",
    "import matplotlib as plt\n",
    "from ir import *"
   ]
  },
  {
   "cell_type": "code",
   "execution_count": 2,
   "id": "288cc253",
   "metadata": {},
   "outputs": [],
   "source": [
    "curve = [ ( 0.5147,  -0.1431/100.)\n",
    "        , ( 1.0103,  -0.1452/100.)\n",
    "        , ( 2.0096,  -0.1362/100.)\n",
    "        , ( 3.0090,  -0.0973/100.)\n",
    "        , ( 4.0138,  -0.0127/100.)\n",
    "        , ( 5.0104,   0.0727/100.)\n",
    "        , ( 6.0097,   0.1873/100.)\n",
    "        , ( 7.0090,   0.3105/100.)\n",
    "        , ( 8.0111,   0.4374/100.)\n",
    "        , ( 9.0159,   0.5591/100.)\n",
    "        , (10.0125,   0.6747/100.)\n",
    "        , (12.0112,   0.8599/100.)\n",
    "        , (15.0147,   1.0640/100.)\n",
    "        , (20.0168,   1.2259/100.)\n",
    "        , (25.0108,   1.2648/100.)\n",
    "        , (30.0102,   1.2637/100.)\n",
    "        , (40.0118,   1.2239/100.)\n",
    "        , (50.0106,   1.1329/100.)\n",
    "        ]"
   ]
  },
  {
   "cell_type": "code",
   "execution_count": 3,
   "id": "c80a6de1",
   "metadata": {},
   "outputs": [
    {
     "data": {
      "text/html": [
       "<div>\n",
       "<style scoped>\n",
       "    .dataframe tbody tr th:only-of-type {\n",
       "        vertical-align: middle;\n",
       "    }\n",
       "\n",
       "    .dataframe tbody tr th {\n",
       "        vertical-align: top;\n",
       "    }\n",
       "\n",
       "    .dataframe thead th {\n",
       "        text-align: right;\n",
       "    }\n",
       "</style>\n",
       "<table border=\"1\" class=\"dataframe\">\n",
       "  <thead>\n",
       "    <tr style=\"text-align: right;\">\n",
       "      <th></th>\n",
       "      <th>0</th>\n",
       "      <th>1</th>\n",
       "    </tr>\n",
       "  </thead>\n",
       "  <tbody>\n",
       "    <tr>\n",
       "      <th>0</th>\n",
       "      <td>0.5147</td>\n",
       "      <td>-0.001431</td>\n",
       "    </tr>\n",
       "    <tr>\n",
       "      <th>1</th>\n",
       "      <td>1.0103</td>\n",
       "      <td>-0.001452</td>\n",
       "    </tr>\n",
       "    <tr>\n",
       "      <th>2</th>\n",
       "      <td>2.0096</td>\n",
       "      <td>-0.001362</td>\n",
       "    </tr>\n",
       "    <tr>\n",
       "      <th>3</th>\n",
       "      <td>3.0090</td>\n",
       "      <td>-0.000973</td>\n",
       "    </tr>\n",
       "    <tr>\n",
       "      <th>4</th>\n",
       "      <td>4.0138</td>\n",
       "      <td>-0.000127</td>\n",
       "    </tr>\n",
       "    <tr>\n",
       "      <th>5</th>\n",
       "      <td>5.0104</td>\n",
       "      <td>0.000727</td>\n",
       "    </tr>\n",
       "    <tr>\n",
       "      <th>6</th>\n",
       "      <td>6.0097</td>\n",
       "      <td>0.001873</td>\n",
       "    </tr>\n",
       "    <tr>\n",
       "      <th>7</th>\n",
       "      <td>7.0090</td>\n",
       "      <td>0.003105</td>\n",
       "    </tr>\n",
       "    <tr>\n",
       "      <th>8</th>\n",
       "      <td>8.0111</td>\n",
       "      <td>0.004374</td>\n",
       "    </tr>\n",
       "    <tr>\n",
       "      <th>9</th>\n",
       "      <td>9.0159</td>\n",
       "      <td>0.005591</td>\n",
       "    </tr>\n",
       "    <tr>\n",
       "      <th>10</th>\n",
       "      <td>10.0125</td>\n",
       "      <td>0.006747</td>\n",
       "    </tr>\n",
       "    <tr>\n",
       "      <th>11</th>\n",
       "      <td>12.0112</td>\n",
       "      <td>0.008599</td>\n",
       "    </tr>\n",
       "    <tr>\n",
       "      <th>12</th>\n",
       "      <td>15.0147</td>\n",
       "      <td>0.010640</td>\n",
       "    </tr>\n",
       "    <tr>\n",
       "      <th>13</th>\n",
       "      <td>20.0168</td>\n",
       "      <td>0.012259</td>\n",
       "    </tr>\n",
       "    <tr>\n",
       "      <th>14</th>\n",
       "      <td>25.0108</td>\n",
       "      <td>0.012648</td>\n",
       "    </tr>\n",
       "    <tr>\n",
       "      <th>15</th>\n",
       "      <td>30.0102</td>\n",
       "      <td>0.012637</td>\n",
       "    </tr>\n",
       "    <tr>\n",
       "      <th>16</th>\n",
       "      <td>40.0118</td>\n",
       "      <td>0.012239</td>\n",
       "    </tr>\n",
       "    <tr>\n",
       "      <th>17</th>\n",
       "      <td>50.0106</td>\n",
       "      <td>0.011329</td>\n",
       "    </tr>\n",
       "  </tbody>\n",
       "</table>\n",
       "</div>"
      ],
      "text/plain": [
       "          0         1\n",
       "0    0.5147 -0.001431\n",
       "1    1.0103 -0.001452\n",
       "2    2.0096 -0.001362\n",
       "3    3.0090 -0.000973\n",
       "4    4.0138 -0.000127\n",
       "5    5.0104  0.000727\n",
       "6    6.0097  0.001873\n",
       "7    7.0090  0.003105\n",
       "8    8.0111  0.004374\n",
       "9    9.0159  0.005591\n",
       "10  10.0125  0.006747\n",
       "11  12.0112  0.008599\n",
       "12  15.0147  0.010640\n",
       "13  20.0168  0.012259\n",
       "14  25.0108  0.012648\n",
       "15  30.0102  0.012637\n",
       "16  40.0118  0.012239\n",
       "17  50.0106  0.011329"
      ]
     },
     "execution_count": 3,
     "metadata": {},
     "output_type": "execute_result"
    }
   ],
   "source": [
    "data=pd.DataFrame(curve)\n",
    "data"
   ]
  },
  {
   "cell_type": "code",
   "execution_count": 4,
   "id": "11211127",
   "metadata": {},
   "outputs": [
    {
     "name": "stdout",
     "output_type": "stream",
     "text": [
      "Number of simulations: 500000\n"
     ]
    }
   ],
   "source": [
    "Nt = 22   # \n",
    "nr = 12\n",
    "p = 20\n",
    "Yrs  = 1\n",
    "#strike = keywords[\"strike\"]\n",
    "seed   = 1\n",
    "gamma =0.5\n",
    "sigma = 0.05\n",
    "curve = curve\n",
    "tn = 2       #maturity option\n",
    "N  = 500000\n",
    "print(\"Number of simulations:\", N)\n",
    "#Dt = Yrs/Nt\n",
    "Dt=1"
   ]
  },
  {
   "cell_type": "code",
   "execution_count": 5,
   "id": "9171a314",
   "metadata": {},
   "outputs": [],
   "source": [
    "Obj = np.random.RandomState()\n",
    "Obj.seed(seed)"
   ]
  },
  {
   "cell_type": "code",
   "execution_count": 6,
   "id": "bf674359",
   "metadata": {},
   "outputs": [],
   "source": [
    "##Costruisco l'oggetto della discount curve"
   ]
  },
  {
   "cell_type": "code",
   "execution_count": 7,
   "id": "7a67d5e8",
   "metadata": {
    "scrolled": true
   },
   "outputs": [],
   "source": [
    "dc  = zc(curve = curve) \n",
    "P_0T  = np.ndarray(shape=(Nt+1), dtype=np.double) "
   ]
  },
  {
   "cell_type": "code",
   "execution_count": 8,
   "id": "489bc278",
   "metadata": {},
   "outputs": [
    {
     "data": {
      "text/html": [
       "<div>\n",
       "<style scoped>\n",
       "    .dataframe tbody tr th:only-of-type {\n",
       "        vertical-align: middle;\n",
       "    }\n",
       "\n",
       "    .dataframe tbody tr th {\n",
       "        vertical-align: top;\n",
       "    }\n",
       "\n",
       "    .dataframe thead th {\n",
       "        text-align: right;\n",
       "    }\n",
       "</style>\n",
       "<table border=\"1\" class=\"dataframe\">\n",
       "  <thead>\n",
       "    <tr style=\"text-align: right;\">\n",
       "      <th></th>\n",
       "      <th>0</th>\n",
       "    </tr>\n",
       "  </thead>\n",
       "  <tbody>\n",
       "    <tr>\n",
       "      <th>0</th>\n",
       "      <td>1.000000</td>\n",
       "    </tr>\n",
       "    <tr>\n",
       "      <th>1</th>\n",
       "      <td>1.001453</td>\n",
       "    </tr>\n",
       "    <tr>\n",
       "      <th>2</th>\n",
       "      <td>1.002729</td>\n",
       "    </tr>\n",
       "    <tr>\n",
       "      <th>3</th>\n",
       "      <td>1.002930</td>\n",
       "    </tr>\n",
       "    <tr>\n",
       "      <th>4</th>\n",
       "      <td>1.000543</td>\n",
       "    </tr>\n",
       "    <tr>\n",
       "      <th>5</th>\n",
       "      <td>0.996407</td>\n",
       "    </tr>\n",
       "    <tr>\n",
       "      <th>6</th>\n",
       "      <td>0.988880</td>\n",
       "    </tr>\n",
       "    <tr>\n",
       "      <th>7</th>\n",
       "      <td>0.978565</td>\n",
       "    </tr>\n",
       "    <tr>\n",
       "      <th>8</th>\n",
       "      <td>0.965708</td>\n",
       "    </tr>\n",
       "    <tr>\n",
       "      <th>9</th>\n",
       "      <td>0.951073</td>\n",
       "    </tr>\n",
       "    <tr>\n",
       "      <th>10</th>\n",
       "      <td>0.934878</td>\n",
       "    </tr>\n",
       "    <tr>\n",
       "      <th>11</th>\n",
       "      <td>0.918322</td>\n",
       "    </tr>\n",
       "    <tr>\n",
       "      <th>12</th>\n",
       "      <td>0.902051</td>\n",
       "    </tr>\n",
       "    <tr>\n",
       "      <th>13</th>\n",
       "      <td>0.885258</td>\n",
       "    </tr>\n",
       "    <tr>\n",
       "      <th>14</th>\n",
       "      <td>0.868769</td>\n",
       "    </tr>\n",
       "    <tr>\n",
       "      <th>15</th>\n",
       "      <td>0.852587</td>\n",
       "    </tr>\n",
       "    <tr>\n",
       "      <th>16</th>\n",
       "      <td>0.838095</td>\n",
       "    </tr>\n",
       "    <tr>\n",
       "      <th>17</th>\n",
       "      <td>0.823870</td>\n",
       "    </tr>\n",
       "    <tr>\n",
       "      <th>18</th>\n",
       "      <td>0.809887</td>\n",
       "    </tr>\n",
       "    <tr>\n",
       "      <th>19</th>\n",
       "      <td>0.796140</td>\n",
       "    </tr>\n",
       "    <tr>\n",
       "      <th>20</th>\n",
       "      <td>0.782628</td>\n",
       "    </tr>\n",
       "    <tr>\n",
       "      <th>21</th>\n",
       "      <td>0.771549</td>\n",
       "    </tr>\n",
       "    <tr>\n",
       "      <th>22</th>\n",
       "      <td>0.760665</td>\n",
       "    </tr>\n",
       "  </tbody>\n",
       "</table>\n",
       "</div>"
      ],
      "text/plain": [
       "           0\n",
       "0   1.000000\n",
       "1   1.001453\n",
       "2   1.002729\n",
       "3   1.002930\n",
       "4   1.000543\n",
       "5   0.996407\n",
       "6   0.988880\n",
       "7   0.978565\n",
       "8   0.965708\n",
       "9   0.951073\n",
       "10  0.934878\n",
       "11  0.918322\n",
       "12  0.902051\n",
       "13  0.885258\n",
       "14  0.868769\n",
       "15  0.852587\n",
       "16  0.838095\n",
       "17  0.823870\n",
       "18  0.809887\n",
       "19  0.796140\n",
       "20  0.782628\n",
       "21  0.771549\n",
       "22  0.760665"
      ]
     },
     "execution_count": 8,
     "metadata": {},
     "output_type": "execute_result"
    }
   ],
   "source": [
    "for n in range(Nt+1):\n",
    "    P_0T[n] = dc.P_0t( n*Dt)         #P(0,t)=pn exp(fn(t))\n",
    "nm= pd.DataFrame(P_0T)\n",
    "nm"
   ]
  },
  {
   "cell_type": "markdown",
   "id": "f0d57831",
   "metadata": {},
   "source": [
    "## Swap Rate"
   ]
  },
  {
   "cell_type": "code",
   "execution_count": 9,
   "id": "343b596b",
   "metadata": {
    "scrolled": false
   },
   "outputs": [
    {
     "name": "stdout",
     "output_type": "stream",
     "text": [
      "k value for IRS fair:  0.013577079671993385\n"
     ]
    }
   ],
   "source": [
    "t=0\n",
    "def a(tn,p):\n",
    "    a=0\n",
    "    for i in range(1,p+1):\n",
    "       a+=dc.P_0t(tn+i)\n",
    "    return a\n",
    "k= (dc.P_0t(tn)-dc.P_0t(tn+p)) / a(tn,p) \n",
    "print(\"k value for IRS fair: \", k)"
   ]
  },
  {
   "cell_type": "code",
   "execution_count": 10,
   "id": "f3f19445",
   "metadata": {},
   "outputs": [],
   "source": [
    "ks=[k, k+0.5/100, k-0.5/100, k+1/100, k-1/100, k+5/100, k-5/100]"
   ]
  },
  {
   "cell_type": "markdown",
   "id": "9b2d0b60",
   "metadata": {},
   "source": [
    "## Jamshidian "
   ]
  },
  {
   "cell_type": "code",
   "execution_count": 11,
   "id": "b05cb805",
   "metadata": {},
   "outputs": [],
   "source": [
    "hw = HW(gamma=gamma, sigma=sigma)"
   ]
  },
  {
   "cell_type": "code",
   "execution_count": 12,
   "id": "cea90d5d",
   "metadata": {},
   "outputs": [
    {
     "name": "stdout",
     "output_type": "stream",
     "text": [
      "     k      SW price          r* \n",
      "\n",
      "0.0135771     0.0363458    -0.0041311 \n",
      "\n",
      "0.0185771     0.0979161     0.0396215 \n",
      "\n",
      "0.0085771     0.0070509    -0.0513620 \n",
      "\n",
      "0.0235771     0.1796133     0.0803751 \n",
      "\n",
      "0.0035771     0.0005082    -0.1026742 \n",
      "\n",
      "0.0635771     0.8914403     0.3334317 \n",
      "\n",
      "-0.0364229     0.0000000    -0.8563019 \n",
      "\n"
     ]
    }
   ],
   "source": [
    "print(\"%6.7s  %12.9s  %10.7s \\n\"%(\"k\",\"SW price\",\"r*\"))\n",
    "for el in ks:\n",
    "    SW_price, r_star= hw.Swaption(tn, p, el, dc)\n",
    "    print(\"%6.7f  %12.7f  %12.7f \\n\"%(el,SW_price,r_star))"
   ]
  },
  {
   "cell_type": "markdown",
   "id": "d01201c1",
   "metadata": {},
   "source": [
    "## MonteCarlo"
   ]
  },
  {
   "cell_type": "markdown",
   "id": "24a578c7",
   "metadata": {},
   "source": [
    "Bank Account numerair"
   ]
  },
  {
   "cell_type": "code",
   "execution_count": 13,
   "id": "c19258cf",
   "metadata": {
    "scrolled": true
   },
   "outputs": [
    {
     "name": "stdout",
     "output_type": "stream",
     "text": [
      "@ elapsed   1.2483 sec.\n",
      "\n"
     ]
    }
   ],
   "source": [
    "T0 = Timer();                       \n",
    "T0.start()\n",
    "X,Ix = hw_evol( Obj, hw, Dt, p, N)\n",
    "i_phi = hw.IntPhi(dc, Dt, Nt)   \n",
    "t_end = T0.stop()\n",
    "print(\"@ elapsed %8.4f sec.\\n\" %(t_end))"
   ]
  },
  {
   "cell_type": "code",
   "execution_count": 14,
   "id": "51ccb194",
   "metadata": {},
   "outputs": [],
   "source": [
    "Xo = X[tn]    \n",
    "f = Ix[tn]\n",
    "df2 = exp(i_phi[tn])*np.exp(-f)"
   ]
  },
  {
   "cell_type": "code",
   "execution_count": 15,
   "id": "c4607a40",
   "metadata": {},
   "outputs": [
    {
     "name": "stdout",
     "output_type": "stream",
     "text": [
      "     k           BAN +/- err                  N \n",
      "\n",
      "0.0135771   0.0363248 +/- 0.0002512     500000 \n",
      "\n",
      "0.0185771   0.0978539 +/- 0.0003896     500000 \n",
      "\n",
      "0.0085771   0.0070607 +/- 0.0001070     500000 \n",
      "\n",
      "0.0235771   0.1794917 +/- 0.0004782     500000 \n",
      "\n",
      "0.0035771   0.0005179 +/- 0.0000263     500000 \n",
      "\n",
      "0.0635771   0.8912173 +/- 0.0008881     500000 \n",
      "\n",
      "-0.0364229   0.0000000 +/- 0.0000000     500000 \n",
      "\n"
     ]
    }
   ],
   "source": [
    "print(\"%6.7s  %12.7s +/- %2.7s   %16.7s \\n\"%(\"k\",\"BAN\",\"err\",\"N\"))\n",
    "for el in ks: \n",
    "    func=0\n",
    "    for i in range(1,p):\n",
    "        P_t= hw.BondPrice( tn, tn+i, dc, Xo)    \n",
    "        func += el * P_t \n",
    "    \n",
    "    func += (1+el)* hw.BondPrice(tn, tn+p, dc, Xo)\n",
    "    put   = np.maximum(func - 1.0, 0.0)  # array di valori di payoff\n",
    "    put   = df2*put \n",
    "    #m, S2=stats(put)\n",
    "    ePut  = np.add.reduce( put * put, 0)/N\n",
    "    put   = np.add.reduce( put , 0)/N\n",
    "    ePut  = 3*np.sqrt( np.maximum( ePut - put*put , 0.0)/N )       \n",
    "    print(\"%6.7f  %10.7f +/- %8.7f   %8.7s \\n\"%(el,put,ePut,N))"
   ]
  },
  {
   "cell_type": "markdown",
   "id": "e72fe32b",
   "metadata": {},
   "source": [
    "°°°°°°°°°°°°°°°°°°°°°°°°°°°°°°°°°°°°°°°°°°°°°°°°°°"
   ]
  },
  {
   "cell_type": "markdown",
   "id": "00b8e3f6",
   "metadata": {},
   "source": [
    "P(t,tn) numerair"
   ]
  },
  {
   "cell_type": "code",
   "execution_count": 16,
   "id": "d98720a4",
   "metadata": {},
   "outputs": [
    {
     "name": "stdout",
     "output_type": "stream",
     "text": [
      "@ elapsed   0.5651 sec.\n",
      "\n"
     ]
    }
   ],
   "source": [
    "To = Timer()                    ## P(t,T) NUMERAIR. SECONDA PARTE ESERCIZIO 4 \n",
    "To.start()\n",
    "X = hw_evol_P_0T( Obj, hw, Dt, Nt, tn, N)\n",
    "t_end = To.stop()\n",
    "print(\"@ elapsed %8.4f sec.\\n\" %(t_end))\n",
    "Xo  = X[tn]"
   ]
  },
  {
   "cell_type": "code",
   "execution_count": 17,
   "id": "2b659d74",
   "metadata": {},
   "outputs": [
    {
     "name": "stdout",
     "output_type": "stream",
     "text": [
      "     k       P(t,tn) +/- err                  N\n",
      "\n",
      "0.0135771   0.0364791  +/- 0.0010076     500000 \n",
      "\n",
      "0.0185771   0.0980873  +/- 0.0012480     500000 \n",
      "\n",
      "0.0085771   0.0071430  +/- 0.0006572     500000 \n",
      "\n",
      "0.0235771   0.1798165  +/- 0.0013685     500000 \n",
      "\n",
      "0.0035771   0.0005229  +/- 0.0003214     500000 \n",
      "\n",
      "0.0635771   0.8917746  +/- 0.0017358     500000 \n",
      "\n",
      "-0.0364229   0.0000000  +/- 0.0000000     500000 \n",
      "\n"
     ]
    }
   ],
   "source": [
    "print(\"%6.7s  %12.7s +/- %2.7s   %16.7s\\n\"%(\"k\",\"P(t,tn)\",\"err\",\"N\"))\n",
    "P_0t= dc.P_0t(tn)\n",
    "T_=[tn, tn+p]\n",
    "for el in ks:\n",
    "    pay=0\n",
    "    for i in range(1,p):\n",
    "        P_t= hw.BondPrice( tn, tn+i, dc, Xo)\n",
    "        pay += el*P_t \n",
    "        \n",
    "    pay += (1+el)*hw.BondPrice(tn, tn+p, dc, Xo) \n",
    "\n",
    "    opt1 = dc.P_0t(T_[0])*np.maximum( (pay - 1.0) , 0.0)   \n",
    "    put1,s1 = stats(opt1)\n",
    "    err1 = 3*sqrt( s1/N )\n",
    "    print(\"%6.7f  %10.7f  +/- %8.7f   %8.7s \\n\"%(el,put1,err1,N))"
   ]
  },
  {
   "cell_type": "markdown",
   "id": "3ac5d269",
   "metadata": {},
   "source": [
    "°°°°°°°°°°°°°°°°°°°°°°°°°°°°°°°°°°°°°°°°°°°\n"
   ]
  },
  {
   "cell_type": "markdown",
   "id": "2d55629a",
   "metadata": {},
   "source": [
    "P(t,tn+p) numerair"
   ]
  },
  {
   "cell_type": "code",
   "execution_count": 18,
   "id": "b273643b",
   "metadata": {},
   "outputs": [
    {
     "name": "stdout",
     "output_type": "stream",
     "text": [
      "@ elapsed   0.3674 sec.\n",
      "\n"
     ]
    }
   ],
   "source": [
    "To = Timer()                   \n",
    "To.start()\n",
    "X = hw_evol_P_0T( Obj, hw, Dt, Nt, tn+p, N)\n",
    "t_end = To.stop()\n",
    "print(\"@ elapsed %8.4f sec.\\n\" %(t_end))\n",
    "Xo  = X[tn]"
   ]
  },
  {
   "cell_type": "code",
   "execution_count": 19,
   "id": "083fdc71",
   "metadata": {},
   "outputs": [
    {
     "name": "stdout",
     "output_type": "stream",
     "text": [
      "     k       P(t,tn+p) +/-    err                 N\n",
      "\n",
      " 0.0135771   0.0365265 +/- 0.0009542    500000 \n",
      "\n",
      " 0.0185771   0.0981585 +/- 0.0011683    500000 \n",
      "\n",
      " 0.0085771   0.0071476 +/- 0.0006211    500000 \n",
      "\n",
      " 0.0235771   0.1798782 +/- 0.0012496    500000 \n",
      "\n",
      " 0.0035771   0.0005219 +/- 0.0002993    500000 \n",
      "\n",
      " 0.0635771   0.8916945 +/- 0.0012321    500000 \n",
      "\n",
      " -0.0364229   0.0000000 +/- 0.0000000    500000 \n",
      "\n"
     ]
    }
   ],
   "source": [
    "print(\"%6.7s  %14.9s +/- %6.7s   %15.7s\\n\"%(\"k\",\"P(t,tn+p)\",\"err\",\"N\"))\n",
    "P_tT = hw.BondPrice( tn, tn+p, dc, Xo)\n",
    "for el in ks:\n",
    "    pay=0\n",
    "    for i in range(1,p):\n",
    "        P_t= hw.BondPrice( tn, tn+i, dc, Xo)\n",
    "        pay += el*P_t \n",
    "        \n",
    "    pay += (1+el)*hw.BondPrice(tn, tn+p, dc, Xo) \n",
    "    a=np.maximum( (pay - 1.0) , 0.0)\n",
    "    opt2 = dc.P_0t(tn+p)* a / P_tT\n",
    "    put2, sq= stats(opt2)\n",
    "    err2 = 3*sqrt( sq/N )\n",
    "    \n",
    "    print(\" %6.7f  %10.7f +/- %8.7f  %8.7s \\n\"%(el,put2,err2,N))"
   ]
  },
  {
   "cell_type": "code",
   "execution_count": null,
   "id": "1f6805b5",
   "metadata": {},
   "outputs": [],
   "source": []
  }
 ],
 "metadata": {
  "interpreter": {
   "hash": "606304da2cb0fbd2a611392dfe368b2d97669bc1a30539ca10c558b0269f6cf0"
  },
  "kernelspec": {
   "display_name": "Python 3 (ipykernel)",
   "language": "python",
   "name": "python3"
  },
  "language_info": {
   "codemirror_mode": {
    "name": "ipython",
    "version": 3
   },
   "file_extension": ".py",
   "mimetype": "text/x-python",
   "name": "python",
   "nbconvert_exporter": "python",
   "pygments_lexer": "ipython3",
   "version": "3.9.7"
  }
 },
 "nbformat": 4,
 "nbformat_minor": 5
}
